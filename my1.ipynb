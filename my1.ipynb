{
 "cells": [
  {
   "cell_type": "markdown",
   "id": "9ec07257",
   "metadata": {},
   "source": [
    "# first class method"
   ]
  },
  {
   "cell_type": "code",
   "execution_count": 3,
   "id": "ab29ef47",
   "metadata": {},
   "outputs": [
    {
     "name": "stdout",
     "output_type": "stream",
     "text": [
      "Corey.schafer@company.com Corey\n",
      "Corey.schafer@company.com test\n"
     ]
    }
   ],
   "source": [
    "class Employee:\n",
    "    pass \n",
    "emp1 = Employee()\n",
    "emp2 = Employee()\n",
    "\n",
    "# print(emp1)\n",
    "# print(emp2)\n",
    "\n",
    "emp1.fname = 'Corey'\n",
    "emp1.lname = 'schafer'\n",
    "emp1.pay = 20000\n",
    "emp1.email = 'Corey.schafer@company.com'\n",
    "\n",
    "emp2.fname = 'test'\n",
    "emp2.lname = 'user'\n",
    "emp2.pay = 40000\n",
    "emp2.email = 'test.user@company.com'\n",
    "\n",
    "print(emp1.email, emp1.fname)\n",
    "print(emp1.email, emp2.fname)\n",
    "\n",
    "\n"
   ]
  },
  {
   "cell_type": "markdown",
   "id": "66f02502",
   "metadata": {},
   "source": [
    "second class method "
   ]
  },
  {
   "cell_type": "code",
   "execution_count": 8,
   "id": "71bf626d",
   "metadata": {},
   "outputs": [
    {
     "name": "stdout",
     "output_type": "stream",
     "text": [
      "Corey Schafer\n",
      "Test User\n",
      "Corey\n",
      "Test\n"
     ]
    }
   ],
   "source": [
    "class Employee():\n",
    "    def __init__(self, first, last, pay):\n",
    "        self.fname = first \n",
    "        self.lname = last\n",
    "        self.pay = pay\n",
    "        self.email = first + '.' + last + '@company.com'\n",
    "emp1 = Employee('Corey', 'Schafer',50000)\n",
    "emp2 = Employee('Test', 'User',50000)\n",
    "print('{} {}'.format(emp1.fname, emp1.lname))\n",
    "print('{} {}'.format(emp2.fname, emp2.lname))\n",
    "print(emp1.fname)\n",
    "print(emp2.fname)"
   ]
  },
  {
   "cell_type": "markdown",
   "id": "4d8b101f",
   "metadata": {},
   "source": [
    "third method class"
   ]
  },
  {
   "cell_type": "code",
   "execution_count": 12,
   "id": "0eb45395",
   "metadata": {},
   "outputs": [
    {
     "name": "stdout",
     "output_type": "stream",
     "text": [
      "Corey.Schafer@company.com\n",
      "Test.User@company.com\n",
      "Corey Schafer\n",
      "Test User\n"
     ]
    }
   ],
   "source": [
    "class Employee():\n",
    "    def __init__(self, first, last, pay):\n",
    "        self.fname = first\n",
    "        self.lname = last\n",
    "        self.pay = pay\n",
    "        self.email = first + '.' +last +'@company.com'\n",
    "    def full_name(self):\n",
    "        return ('{} {}'.format(self.fname, self.lname))\n",
    "emp1 = Employee('Corey', 'Schafer', 60000)\n",
    "emp2 = Employee('Test', 'User', 50000)\n",
    "print(emp1.email)\n",
    "print(emp2.email)\n",
    "print(emp1.full_name())\n",
    "print(emp2.full_name())\n",
    "\n"
   ]
  },
  {
   "cell_type": "markdown",
   "id": "1c1c8280",
   "metadata": {},
   "source": [
    "fourth method class"
   ]
  },
  {
   "cell_type": "code",
   "execution_count": 17,
   "id": "ada32450",
   "metadata": {},
   "outputs": [
    {
     "name": "stdout",
     "output_type": "stream",
     "text": [
      "Test User\n",
      "Corey Schafer\n"
     ]
    }
   ],
   "source": [
    "class Employee():\n",
    "    def __init__(self, first, last, pay):\n",
    "        self.fname = first\n",
    "        self.lname = last\n",
    "        self.pay = pay\n",
    "        self.email = first + '.' + last +'@company.com'\n",
    "    def fullname(self):\n",
    "        return ('{} {}'.format(self.fname, self.lname))\n",
    "emp1 = Employee('Corey', 'Schafer', 600000)\n",
    "emp2 = Employee('Test', 'User', 500000)\n",
    "x = emp2.fullname()\n",
    "print(x)\n",
    "y = Employee.fullname(emp1)\n",
    "print(y)\n",
    "\n"
   ]
  },
  {
   "cell_type": "markdown",
   "id": "573d620d",
   "metadata": {},
   "source": [
    "another thing of class "
   ]
  },
  {
   "cell_type": "code",
   "execution_count": 5,
   "id": "ca0cfa68",
   "metadata": {},
   "outputs": [
    {
     "name": "stdout",
     "output_type": "stream",
     "text": [
      "600000\n",
      "630000\n"
     ]
    }
   ],
   "source": [
    "class Employee():\n",
    "    raise_amount = 1.05\n",
    "    def __init__(self, first, last, pay):\n",
    "        self.fname = first\n",
    "        self.lname = last\n",
    "        self.pay = pay\n",
    "        self.email = first + '.' +last +'@company.com'\n",
    "        \n",
    "    def fullname(self):\n",
    "        return ('{} {}'.format(self.fname,self.lname))\n",
    "    \n",
    "    def apply_raise(self):\n",
    "        self.pay = int(self.pay * self.raise_amount)\n",
    "\n",
    "emp1 = Employee('Corey', 'Schafer', 600000)\n",
    "emp2 = Employee('Test', 'User', 500000)\n",
    "\n",
    "print(emp1.pay)\n",
    "emp1.apply_raise()\n",
    "print(emp1.pay)\n",
    "\n"
   ]
  },
  {
   "cell_type": "markdown",
   "id": "eae98218",
   "metadata": {},
   "source": [
    "# class variable"
   ]
  },
  {
   "cell_type": "code",
   "execution_count": 9,
   "id": "05db6226",
   "metadata": {},
   "outputs": [
    {
     "name": "stdout",
     "output_type": "stream",
     "text": [
      "70000\n",
      "73500\n"
     ]
    }
   ],
   "source": [
    "class Employee():\n",
    "    \n",
    "    raise_amount = 1.05\n",
    "    \n",
    "    def __init__(self, first, last, pay):\n",
    "        self.fname = first\n",
    "        self.lname = last\n",
    "        self.pay = pay\n",
    "        self.email = first + '.' + last +'@company.com'\n",
    "    def fullname(self):\n",
    "        return ('{} {}'.format(self.fname, self.lname))\n",
    "    def apply_raise(self):\n",
    "        self.pay = int(self.pay * self.raise_amount)\n",
    "\n",
    "emp1 = Employee('Corey', 'Schafer', 70000)\n",
    "emp2 = Employee('Test', 'User', 60000)\n",
    "\n",
    "print(emp1.pay)\n",
    "emp1.apply_raise()\n",
    "print(emp1.pay)\n",
    "\n"
   ]
  },
  {
   "cell_type": "markdown",
   "id": "47cc9b3f",
   "metadata": {},
   "source": [
    "# instance and class variables"
   ]
  },
  {
   "cell_type": "code",
   "execution_count": 6,
   "id": "58152ccd",
   "metadata": {},
   "outputs": [
    {
     "name": "stdout",
     "output_type": "stream",
     "text": [
      "0\n",
      "2\n",
      "Corey Schafer\n"
     ]
    }
   ],
   "source": [
    "class Employee():\n",
    "    num_of_emps = 0\n",
    "    raise_amount = 1.05\n",
    "    \n",
    "    def __init__(self, first, last, pay):\n",
    "        self.fname = first\n",
    "        self.lname = last\n",
    "        self.pay = pay\n",
    "        self.email = first + '.' + last +'@company.com'\n",
    "        \n",
    "        Employee.num_of_emps +=1\n",
    "        \n",
    "    def fullname(self):\n",
    "        return ('{} {}'.format(self.fname, self.lname))\n",
    "    \n",
    "    def araise(self):\n",
    "        self.pay = int(self.pay * self.raise_amount)\n",
    "        \n",
    "print(Employee.num_of_emps)\n",
    "\n",
    "emp1 = Employee('Corey', 'Schafer', 60000)\n",
    "emp2 = Employee('Test', 'User', 60000)\n",
    "\n",
    "print(Employee.num_of_emps)\n",
    "print(emp1.fullname())\n",
    "\n"
   ]
  },
  {
   "cell_type": "markdown",
   "id": "99cd5f3f",
   "metadata": {},
   "source": [
    "# classmethods and staticmethods "
   ]
  },
  {
   "cell_type": "code",
   "execution_count": 19,
   "id": "bdeb03fe",
   "metadata": {},
   "outputs": [
    {
     "name": "stdout",
     "output_type": "stream",
     "text": [
      "2\n",
      "1.05\n",
      "Corey Schafer\n"
     ]
    }
   ],
   "source": [
    "class Employee():\n",
    "    num_of_emps = 0\n",
    "    raise_amount = 1.04\n",
    "    def __init__(self, first, last, pay):\n",
    "        self.fname = first \n",
    "        self.lname = last \n",
    "        self.pay = pay\n",
    "        self.email = first + '.' + last + '@company.com'\n",
    "        Employee.num_of_emps += 1\n",
    "    def fullname(self):\n",
    "        return ('{} {}'.format(self.fname, self.lname))\n",
    "    def araise(self):\n",
    "        self.pay = (self.pay * self.raise_amount)\n",
    "    @classmethod\n",
    "    def set_raise_amt(cls, amount):\n",
    "        cls.raise_amount = amount\n",
    "Employee.set_raise_amt(1.05)\n",
    "emp1 = Employee('Corey', 'Schafer', 50000)\n",
    "emp2 = Employee('Test', 'User', 40000)\n",
    "print(Employee.num_of_emps)\n",
    "print(emp1.raise_amount)\n",
    "print(emp1.fullname())"
   ]
  },
  {
   "cell_type": "code",
   "execution_count": 18,
   "id": "51f30afd",
   "metadata": {},
   "outputs": [
    {
     "name": "stdout",
     "output_type": "stream",
     "text": [
      "600000\n",
      "500000\n",
      "624000\n",
      "520000\n",
      "2\n",
      "John Doe\n",
      "70000\n",
      "John.Doe@company.com\n",
      "Steve Smith\n",
      "30000\n",
      "Steve.Smith@company.com\n",
      "Jane Doe\n",
      "90000\n",
      "Jane.Doe@company.com\n"
     ]
    }
   ],
   "source": [
    "class Employee():\n",
    "    num_of_emps = 0\n",
    "    raise_amount = 1.04\n",
    "    def __init__(self, first, last, pay):\n",
    "        self.fname = first\n",
    "        self.lname = last\n",
    "        self.pay = pay\n",
    "        self.email = first + '.' + last + '@company.com'\n",
    "        Employee.num_of_emps += 1\n",
    "    def fullname(self):\n",
    "        return ('{} {}'.format(self.fname, self.lname))\n",
    "    def araise(self):\n",
    "        self.pay = int(self.pay * self.raise_amount)\n",
    "    def set_raise_amt(cls, amount):\n",
    "        cls.raise_amount = amount\n",
    "emp1 = Employee('Corey', 'Schafer', 600000)\n",
    "emp2 = Employee('Test', 'User', 500000)\n",
    "print(emp1.pay)\n",
    "print(emp2.pay)\n",
    "emp1.araise()\n",
    "emp2.araise()\n",
    "print(emp1.pay)\n",
    "print(emp2.pay)\n",
    "print(Employee.num_of_emps)\n",
    "emp_str_1 = 'John-Doe-70000'\n",
    "emp_str_2 = 'Steve-Smith-30000'\n",
    "emp_str_3 = 'Jane-Doe-90000'\n",
    "first, last, pay = emp_str_1.split('-')\n",
    "new_emp1 = Employee(first, last, pay)\n",
    "\n",
    "\n",
    "print(new_emp1.fullname())\n",
    "print(new_emp1.pay)\n",
    "print(new_emp1.email)\n",
    "first, last, pay = emp_str_2.split('-')\n",
    "new_emp2 = Employee(first, last, pay)\n",
    "print(new_emp2.fullname())\n",
    "print(new_emp2.pay)\n",
    "print(new_emp2.email)\n",
    "first, last, pay = emp_str_3.split('-')\n",
    "new_emp3 = Employee(first, last, pay)\n",
    "print(new_emp3.fullname())\n",
    "print(new_emp3.pay)\n",
    "print(new_emp3.email)\n",
    "# Employee.set_raise_amt(1.05)"
   ]
  },
  {
   "cell_type": "code",
   "execution_count": 5,
   "id": "842b1fd5",
   "metadata": {},
   "outputs": [
    {
     "name": "stdout",
     "output_type": "stream",
     "text": [
      "600000\n",
      "500000\n",
      "624000\n",
      "520000\n",
      "2\n",
      "John Doe\n",
      "70000\n",
      "John.Doe@company.com\n",
      "Steve Smith\n",
      "30000\n",
      "Steve.Smith@company.com\n",
      "Jane Doe\n",
      "90000\n",
      "Jane.Doe@company.com\n"
     ]
    }
   ],
   "source": [
    "class Employee():\n",
    "    num_of_emps = 0\n",
    "    raise_amount = 1.04\n",
    "    def __init__(self, first, last, pay):\n",
    "        self.fname = first\n",
    "        self.lname = last\n",
    "        self.pay = pay\n",
    "        self.email = first + '.' + last + '@company.com'\n",
    "        Employee.num_of_emps += 1\n",
    "    def fullname(self):\n",
    "        return ('{} {}'.format(self.fname, self.lname))\n",
    "    def araise(self):\n",
    "        self.pay = int(self.pay * self.raise_amount)\n",
    "    @classmethod\n",
    "    def set_raise_amt(cls, amount):\n",
    "        cls.raise_amount = amount\n",
    "    @classmethod\n",
    "    def from_string(cls, emp_str):\n",
    "        first, last, pay = emp_str.split('-')\n",
    "        return cls(first, last, pay)\n",
    "emp1 = Employee('Corey', 'Schafer', 600000)\n",
    "emp2 = Employee('Test', 'User', 500000)\n",
    "print(emp1.pay)\n",
    "print(emp2.pay)\n",
    "emp1.araise()\n",
    "emp2.araise()\n",
    "print(emp1.pay)\n",
    "print(emp2.pay)\n",
    "print(Employee.num_of_emps)\n",
    "emp_str_1 = 'John-Doe-70000'\n",
    "emp_str_2 = 'Steve-Smith-30000'\n",
    "emp_str_3 = 'Jane-Doe-90000'\n",
    "new_emp1 = Employee.from_string(emp_str_1)\n",
    "print(new_emp1.fullname())\n",
    "print(new_emp1.pay)\n",
    "print(new_emp1.email)\n",
    "new_emp2 = Employee.from_string(emp_str_2)\n",
    "print(new_emp2.fullname())\n",
    "print(new_emp2.pay)\n",
    "print(new_emp2.email)\n",
    "new_emp3 = Employee.from_string(emp_str_3)\n",
    "print(new_emp3.fullname())\n",
    "print(new_emp3.pay)\n",
    "print(new_emp3.email)\n"
   ]
  },
  {
   "cell_type": "code",
   "execution_count": 7,
   "id": "1acce308",
   "metadata": {},
   "outputs": [
    {
     "name": "stdout",
     "output_type": "stream",
     "text": [
      "Mayank\n",
      "22\n",
      "Mayank\n",
      "26\n",
      "True\n"
     ]
    }
   ],
   "source": [
    "from datetime import date\n",
    "class Person:\n",
    "    def __init__(self, name, age):\n",
    "        self.name = name\n",
    "        self.age = age\n",
    "    @classmethod\n",
    "    def fromBirthday(cls, name, year):\n",
    "        return cls(name, date.today().year - year)\n",
    "    @staticmethod\n",
    "    def isAdult(age):\n",
    "        return age>18\n",
    "person1 = Person (\"Mayank\", 22)\n",
    "person2 = Person.fromBirthday('Mayank', 1996)\n",
    "print(person1.name)\n",
    "print(person1.age)\n",
    "print(person2.name)\n",
    "print(person2.age)\n",
    "print(Person.isAdult(22))"
   ]
  },
  {
   "cell_type": "code",
   "execution_count": 18,
   "id": "9a7ab819",
   "metadata": {},
   "outputs": [
    {
     "name": "stdout",
     "output_type": "stream",
     "text": [
      "Corey Schafer\n",
      "60000\n",
      "Corey.Schafer@company.com\n",
      "Test User\n",
      "50000\n",
      "Test.User@company.com\n",
      "2\n",
      "Jane Doe\n",
      "40000\n",
      "Jane.Doe@company.com\n",
      "Stive Smith\n",
      "30000\n",
      "Stive.Smith@company.com\n",
      "John Doe\n",
      "90000\n",
      "John.Doe@company.com\n",
      "5\n",
      "True\n"
     ]
    }
   ],
   "source": [
    "import datetime\n",
    "class Employee:\n",
    "    num_of_emps = 0\n",
    "    raise_amount = 1.05\n",
    "    \n",
    "    def __init__(self, first, last, pay):\n",
    "        self.fname = first\n",
    "        self.lname = last\n",
    "        self.pay = pay\n",
    "        self.email = first + '.' +last+'@company.com'\n",
    "        Employee.num_of_emps += 1\n",
    "    def fullname(self):\n",
    "        return ('{} {}'.format(self.fname, self.lname))\n",
    "    def araise(self):\n",
    "        self.pay = int(self.pay * raise_amount)\n",
    "    @classmethod\n",
    "    def mystr(cls, emp_str):\n",
    "        first, last, pay = emp_str.split('-')\n",
    "        return cls(first, last, pay)\n",
    "    @staticmethod\n",
    "    def is_workday(day):\n",
    "        if day.weekday() == 5 or day.weekday() == 6:\n",
    "            return False\n",
    "        return True\n",
    "emp1 = Employee('Corey', 'Schafer', 60000)\n",
    "emp2 = Employee('Test', 'User', 50000)\n",
    "print(emp1.fullname())\n",
    "print(emp1.pay)\n",
    "print(emp1.email)\n",
    "print(emp2.fullname())\n",
    "print(emp2.pay)\n",
    "print(emp2.email)\n",
    "print(Employee.num_of_emps)\n",
    "emp_str_1 = 'Jane-Doe-40000'\n",
    "emp_str_2 = 'Stive-Smith-30000'\n",
    "emp_str_3 = 'John-Doe-90000'\n",
    "new_emp_1 = Employee.mystr(emp_str_1)\n",
    "print(new_emp_1.fullname())\n",
    "print(new_emp_1.pay)\n",
    "print(new_emp_1.email)\n",
    "new_emp_2 = Employee.mystr(emp_str_2)\n",
    "print(new_emp_2.fullname())\n",
    "print(new_emp_2.pay)\n",
    "print(new_emp_2.email)\n",
    "new_emp_3 = Employee.mystr(emp_str_3)\n",
    "print(new_emp_3.fullname())\n",
    "print(new_emp_3.pay)\n",
    "print(new_emp_3.email)\n",
    "print(Employee.num_of_emps)\n",
    "my_date = datetime.date(2018, 8, 10)\n",
    "print(Employee.is_workday(my_date))\n",
    "        "
   ]
  },
  {
   "cell_type": "markdown",
   "id": "84b76cda",
   "metadata": {},
   "source": [
    "# Inheritance"
   ]
  },
  {
   "cell_type": "code",
   "execution_count": 3,
   "id": "cbd56e58",
   "metadata": {},
   "outputs": [
    {
     "name": "stdout",
     "output_type": "stream",
     "text": [
      "Sue.Smith@company.com\n",
      "--> Corey Schafer\n",
      "Corey Schafer\n",
      "500000\n",
      "550000\n",
      "Corey.Schafer@company.com\n",
      "Python\n",
      "Test User\n",
      "400000\n",
      "440000\n",
      "Test.User@company.com\n",
      "Java\n",
      "3\n",
      "John Doe\n",
      "John.Doe@company.com\n",
      "700000\n",
      "Jane Doe\n",
      "Jane.Doe@company.com\n",
      "800000\n",
      "Stive Smith\n",
      "Stive.Smith@company.com\n",
      "900000\n",
      "6\n",
      "True\n"
     ]
    }
   ],
   "source": [
    "class Employee:\n",
    "    \n",
    "    raise_amount = 1.05\n",
    "    num_of_emps = 0\n",
    "    \n",
    "    def __init__(self, first, last, pay):\n",
    "        self.fname = first\n",
    "        self.lname = last\n",
    "        self.email = first + '.' + last + '@company.com'\n",
    "        self.pay = pay\n",
    "        \n",
    "        Employee.num_of_emps += 1\n",
    "        \n",
    "    def fullname( self ):\n",
    "        return '{} {}'.format(self.fname, self.lname)\n",
    "    \n",
    "    def araise(self):\n",
    "        self.pay = int(self.pay * self.raise_amount)\n",
    "        \n",
    "    @classmethod\n",
    "    def my_str(cls, emp_str):\n",
    "        first, last, pay, prog_lang = emp_str.split('-')\n",
    "        return cls(first, last, pay)\n",
    "    \n",
    "    @staticmethod\n",
    "    def is_workday(day):\n",
    "        if day.weekday() == 5 or day.weekday() == 6: return False\n",
    "        return True\n",
    "    \n",
    "# there are two types class inheritances 1.Developer 2.Manager\n",
    "\n",
    "class Developer(Employee):\n",
    "    \n",
    "    raise_amount = 1.10\n",
    "    \n",
    "    def __init__(self, first, last, pay, prog_lang):\n",
    "        super().__init__(first, last, pay)\n",
    "        self.prog_lang = prog_lang\n",
    "\n",
    "class Manager(Employee):\n",
    "    \n",
    "    def __init__(self, first, last, pay, Employees = None):\n",
    "        super().__init__(first, last, pay)\n",
    "        \n",
    "        if Employees is None:\n",
    "            self.Employees = []\n",
    "        else:\n",
    "            self.Employees = Employees\n",
    "            \n",
    "    def add_emp(self, emp):\n",
    "        if emp not in self.Employees:\n",
    "            self.Employees.append(emp)\n",
    "            \n",
    "    def remove_emp(self, emp):\n",
    "        if emp in self.Employees:\n",
    "            self.Employees.remove(emp)\n",
    "            \n",
    "    def print_emp(self):\n",
    "        for emp in self.Employees:\n",
    "            print('-->', emp.fullname())\n",
    "    \n",
    "        \n",
    "import datetime\n",
    "my_date = datetime.date(2022, 4, 7)\n",
    "\n",
    "emp1 = Developer('Corey', 'Schafer', 500000, 'Python')\n",
    "emp2 = Developer('Test', 'User', 400000, 'Java')\n",
    "\n",
    "Mgr_1 = Manager('Sue', 'Smith', 200000, [emp1])\n",
    "\n",
    "print(Mgr_1.email)\n",
    "Mgr_1.print_emp()\n",
    "print(emp1.fullname())\n",
    "print(emp1.pay)\n",
    "emp1.araise()\n",
    "print(emp1.pay)\n",
    "print(emp1.email)\n",
    "print(emp1.prog_lang)\n",
    "\n",
    "print(emp2.fullname())\n",
    "print(emp2.pay)\n",
    "emp2.araise()\n",
    "print(emp2.pay)\n",
    "print(emp2.email)\n",
    "print(emp2.prog_lang)\n",
    "\n",
    "print(Employee.num_of_emps)\n",
    "\n",
    "emp_str_1 = 'John-Doe-700000-C++'\n",
    "emp_str_2 = 'Jane-Doe-800000-Fortran'\n",
    "emp_str_3 = 'Stive-Smith-900000-Html'\n",
    "\n",
    "new_emp_1 = Employee.my_str(emp_str_1)\n",
    "print(new_emp_1.fullname())\n",
    "print(new_emp_1.email)\n",
    "print(new_emp_1.pay)\n",
    "# print(new_emp_1.prog_lang)\n",
    "\n",
    "new_emp_2 = Employee.my_str(emp_str_2)\n",
    "print(new_emp_2.fullname())\n",
    "print(new_emp_2.email)\n",
    "print(new_emp_2.pay)\n",
    "# print(new_emp_2.prog_lang)\n",
    "\n",
    "new_emp_3 = Employee.my_str(emp_str_3)\n",
    "print(new_emp_3.fullname())\n",
    "print(new_emp_3.email)\n",
    "print(new_emp_3.pay)\n",
    "# print(new_emp_3.prog_lang)\n",
    "\n",
    "print(Employee.num_of_emps)\n",
    "\n",
    "print(Employee.is_workday(my_date))\n",
    "\n",
    "\n",
    "\n",
    "\n",
    "\n"
   ]
  },
  {
   "cell_type": "markdown",
   "id": "9f5e864a",
   "metadata": {},
   "source": [
    "# Dunders or Magic method"
   ]
  },
  {
   "cell_type": "code",
   "execution_count": 19,
   "id": "7227b6f3",
   "metadata": {},
   "outputs": [
    {
     "name": "stdout",
     "output_type": "stream",
     "text": [
      "1400000\n",
      "13\n",
      "Corey Schafer - Corey.Schafer@company.com\n",
      "Employee(Corey Schafer 600000)\n",
      "Corey Schafer - Corey.Schafer@company.com\n"
     ]
    }
   ],
   "source": [
    "class Employee:\n",
    "    raise_amount = 1.05\n",
    "    def __init__(self, first, last, pay):\n",
    "        self.fname = first\n",
    "        self.lname = last\n",
    "        self.pay = pay\n",
    "        self.email = first + '.' + last + '@company.com' \n",
    "        \n",
    "    def fullname(self):\n",
    "        return ('{} {}'.format(self.fname, self.lname))\n",
    "    \n",
    "    def araise(self):\n",
    "        self.pay = int(self.pay * self.raise_amount)\n",
    "        \n",
    "    def __repr__(self):\n",
    "        return 'Employee({} {} {})'.format(self.fname, self.lname, self.pay)\n",
    "    \n",
    "    def __str__(self):\n",
    "        return '{} - {}'.format(self.fullname(), self.email)\n",
    "    \n",
    "    def __add__(self, other):\n",
    "        return self.pay + other.pay\n",
    "        \n",
    "    def __len__(self):\n",
    "        return len(self.fullname())\n",
    "    \n",
    "emp1 = Employee('Corey', 'Schafer', 600000)\n",
    "emp2 = Employee('Test', 'User', 800000)\n",
    "\n",
    "print(emp1 + emp2)\n",
    "print(emp1.__len__())\n",
    "\n",
    "print(emp1)\n",
    "print(repr(emp1))\n",
    "print(str(emp1))"
   ]
  },
  {
   "cell_type": "code",
   "execution_count": null,
   "id": "2f51113f",
   "metadata": {},
   "outputs": [],
   "source": []
  },
  {
   "cell_type": "code",
   "execution_count": null,
   "id": "44fe1514",
   "metadata": {},
   "outputs": [],
   "source": []
  }
 ],
 "metadata": {
  "kernelspec": {
   "display_name": "Python 3 (ipykernel)",
   "language": "python",
   "name": "python3"
  },
  "language_info": {
   "codemirror_mode": {
    "name": "ipython",
    "version": 3
   },
   "file_extension": ".py",
   "mimetype": "text/x-python",
   "name": "python",
   "nbconvert_exporter": "python",
   "pygments_lexer": "ipython3",
   "version": "3.9.7"
  }
 },
 "nbformat": 4,
 "nbformat_minor": 5
}
